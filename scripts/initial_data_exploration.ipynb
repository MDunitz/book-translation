{
 "cells": [
  {
   "cell_type": "code",
   "execution_count": null,
   "metadata": {},
   "outputs": [],
   "source": [
    "import os\n",
    "import PyPDF2\n",
    "from gtts import gTTS\n",
    "from PyPDF2 import PdfFileReader\n",
    "\n",
    "\n",
    "def path_a(book_path=None, book_name=None, language=None):\n",
    "    #Selecting the book in epub format\n",
    "    if book_path is None:\n",
    "        book_path = input(\"Enter the path to your epub book: \")\n",
    "    if book_name is None:\n",
    "        book_name = input(\"Enter the name of your translated book: \")\n",
    "\n",
    "    #Selecting the language to translate the book\n",
    "    if language is None:\n",
    "        language = input(\"Enter the language to translate the book into: \")\n",
    "\n",
    "    #Creating a PDF file from the epub book\n",
    "    os.system('ebook-convert' + f\"{book_path}/{book_name}.epub\" + f\"{book_name}.pdf\")\n",
    "\n",
    "def translate_book(book_name, book_path)\n",
    "    #Opening the PDF file\n",
    "    pdf_file = open(f\"{book_name}.pdf\", 'rb')\n",
    "    book_content = pdf_file.read() \n",
    "    \n",
    "    #initialize the translator \n",
    "    translator = Translator() \n",
    "    \n",
    "    #translate the book \n",
    "    translated_book = translator.translate(book_content, dest = language).text \n",
    "\n",
    "    #create a text to speech object \n",
    "    tts = gTTS(translated_book, lang = language) \n",
    "\n",
    "    #Reading the PDF file\n",
    "    # pdf_reader = PyPDF2.PdfFileReader(pdf_file)\n",
    "\n",
    "    #Creating the audio file\n",
    "    audio_file = gTTS(text = pdf_file.read(), slow = False)\n",
    "\n",
    "    #Saving the audio file\n",
    "    audio_file.save(f\"{book_name}.mp3\")\n",
    "\n",
    "    #Playing the audio file\n",
    "    os.system('start book_audio.mp3')\n",
    "\n",
    "path_a(\"~/Desktop/book_translation\", \"dirt_test\", 'french')\n",
    "\n",
    "translate_book(\"~/\")\n",
    "\n",
    "\n"
   ]
  },
  {
   "cell_type": "code",
   "execution_count": 55,
   "metadata": {},
   "outputs": [
    {
     "ename": "AttributeError",
     "evalue": "'NoneType' object has no attribute 'group'",
     "output_type": "error",
     "traceback": [
      "\u001b[0;31m---------------------------------------------------------------------------\u001b[0m",
      "\u001b[0;31mAttributeError\u001b[0m                            Traceback (most recent call last)",
      "Cell \u001b[0;32mIn[55], line 15\u001b[0m\n\u001b[1;32m     13\u001b[0m \u001b[39mwith\u001b[39;00m \u001b[39mopen\u001b[39m(\u001b[39m\"\u001b[39m\u001b[39m../../../ADE.txt\u001b[39m\u001b[39m\"\u001b[39m, \u001b[39m\"\u001b[39m\u001b[39mr\u001b[39m\u001b[39m\"\u001b[39m) \u001b[39mas\u001b[39;00m f:\n\u001b[1;32m     14\u001b[0m     \u001b[39mfor\u001b[39;00m line \u001b[39min\u001b[39;00m f\u001b[39m.\u001b[39mreadlines():\n\u001b[0;32m---> 15\u001b[0m         hold \u001b[39m=\u001b[39m translate\u001b[39m.\u001b[39;49mtranslate(line, \u001b[39m\"\u001b[39;49m\u001b[39mfr\u001b[39;49m\u001b[39m\"\u001b[39;49m)\n\u001b[1;32m     16\u001b[0m         \u001b[39mprint\u001b[39m(hold\u001b[39m.\u001b[39mtext)\n",
      "File \u001b[0;32m~/Desktop/template_repo/template/.env/lib/python3.9/site-packages/googletrans/client.py:182\u001b[0m, in \u001b[0;36mTranslator.translate\u001b[0;34m(self, text, dest, src, **kwargs)\u001b[0m\n\u001b[1;32m    179\u001b[0m     \u001b[39mreturn\u001b[39;00m result\n\u001b[1;32m    181\u001b[0m origin \u001b[39m=\u001b[39m text\n\u001b[0;32m--> 182\u001b[0m data \u001b[39m=\u001b[39m \u001b[39mself\u001b[39;49m\u001b[39m.\u001b[39;49m_translate(text, dest, src, kwargs)\n\u001b[1;32m    184\u001b[0m \u001b[39m# this code will be updated when the format is changed.\u001b[39;00m\n\u001b[1;32m    185\u001b[0m translated \u001b[39m=\u001b[39m \u001b[39m'\u001b[39m\u001b[39m'\u001b[39m\u001b[39m.\u001b[39mjoin([d[\u001b[39m0\u001b[39m] \u001b[39mif\u001b[39;00m d[\u001b[39m0\u001b[39m] \u001b[39melse\u001b[39;00m \u001b[39m'\u001b[39m\u001b[39m'\u001b[39m \u001b[39mfor\u001b[39;00m d \u001b[39min\u001b[39;00m data[\u001b[39m0\u001b[39m]])\n",
      "File \u001b[0;32m~/Desktop/template_repo/template/.env/lib/python3.9/site-packages/googletrans/client.py:78\u001b[0m, in \u001b[0;36mTranslator._translate\u001b[0;34m(self, text, dest, src, override)\u001b[0m\n\u001b[1;32m     77\u001b[0m \u001b[39mdef\u001b[39;00m \u001b[39m_translate\u001b[39m(\u001b[39mself\u001b[39m, text, dest, src, override):\n\u001b[0;32m---> 78\u001b[0m     token \u001b[39m=\u001b[39m \u001b[39mself\u001b[39;49m\u001b[39m.\u001b[39;49mtoken_acquirer\u001b[39m.\u001b[39;49mdo(text)\n\u001b[1;32m     79\u001b[0m     params \u001b[39m=\u001b[39m utils\u001b[39m.\u001b[39mbuild_params(query\u001b[39m=\u001b[39mtext, src\u001b[39m=\u001b[39msrc, dest\u001b[39m=\u001b[39mdest,\n\u001b[1;32m     80\u001b[0m                                 token\u001b[39m=\u001b[39mtoken, override\u001b[39m=\u001b[39moverride)\n\u001b[1;32m     82\u001b[0m     url \u001b[39m=\u001b[39m urls\u001b[39m.\u001b[39mTRANSLATE\u001b[39m.\u001b[39mformat(host\u001b[39m=\u001b[39m\u001b[39mself\u001b[39m\u001b[39m.\u001b[39m_pick_service_url())\n",
      "File \u001b[0;32m~/Desktop/template_repo/template/.env/lib/python3.9/site-packages/googletrans/gtoken.py:194\u001b[0m, in \u001b[0;36mTokenAcquirer.do\u001b[0;34m(self, text)\u001b[0m\n\u001b[1;32m    193\u001b[0m \u001b[39mdef\u001b[39;00m \u001b[39mdo\u001b[39m(\u001b[39mself\u001b[39m, text):\n\u001b[0;32m--> 194\u001b[0m     \u001b[39mself\u001b[39;49m\u001b[39m.\u001b[39;49m_update()\n\u001b[1;32m    195\u001b[0m     tk \u001b[39m=\u001b[39m \u001b[39mself\u001b[39m\u001b[39m.\u001b[39macquire(text)\n\u001b[1;32m    196\u001b[0m     \u001b[39mreturn\u001b[39;00m tk\n",
      "File \u001b[0;32m~/Desktop/template_repo/template/.env/lib/python3.9/site-packages/googletrans/gtoken.py:62\u001b[0m, in \u001b[0;36mTokenAcquirer._update\u001b[0;34m(self)\u001b[0m\n\u001b[1;32m     59\u001b[0m     \u001b[39mreturn\u001b[39;00m\n\u001b[1;32m     61\u001b[0m \u001b[39m# this will be the same as python code after stripping out a reserved word 'var'\u001b[39;00m\n\u001b[0;32m---> 62\u001b[0m code \u001b[39m=\u001b[39m \u001b[39mself\u001b[39;49m\u001b[39m.\u001b[39;49mRE_TKK\u001b[39m.\u001b[39;49msearch(r\u001b[39m.\u001b[39;49mtext)\u001b[39m.\u001b[39;49mgroup(\u001b[39m1\u001b[39m)\u001b[39m.\u001b[39mreplace(\u001b[39m'\u001b[39m\u001b[39mvar \u001b[39m\u001b[39m'\u001b[39m, \u001b[39m'\u001b[39m\u001b[39m'\u001b[39m)\n\u001b[1;32m     63\u001b[0m \u001b[39m# unescape special ascii characters such like a \\x3d(=)\u001b[39;00m\n\u001b[1;32m     64\u001b[0m code \u001b[39m=\u001b[39m code\u001b[39m.\u001b[39mencode()\u001b[39m.\u001b[39mdecode(\u001b[39m'\u001b[39m\u001b[39municode-escape\u001b[39m\u001b[39m'\u001b[39m)\n",
      "\u001b[0;31mAttributeError\u001b[0m: 'NoneType' object has no attribute 'group'"
     ]
    }
   ],
   "source": [
    "import pdfreader\n",
    "from pdfreader import PDFDocument, SimplePDFViewer\n",
    "from googletrans import Translator\n",
    "\n",
    "\n",
    "from googletrans import Translator\n",
    "# translator = Translator(service_urls=['translate.googleapis.com'])\n",
    "# hold = translator.translate(\"Der Himmel ist blau und ich mag Bananen\", dest='en')\n",
    "# print(hold.text)\n",
    "\n",
    "translate = Translator()\n",
    "with open(\"../../../ADE.txt\", \"r\") as f:\n",
    "    for line in f.readlines():\n",
    "        hold = os.system(\"\")\n",
    "        print(hold.text)"
   ]
  },
  {
   "cell_type": "code",
   "execution_count": 100,
   "metadata": {},
   "outputs": [
    {
     "ename": "gTTSError",
     "evalue": "429 (Too Many Requests) from TTS API. Probable cause: Unknown",
     "output_type": "error",
     "traceback": [
      "\u001b[0;31m---------------------------------------------------------------------------\u001b[0m",
      "\u001b[0;31mHTTPError\u001b[0m                                 Traceback (most recent call last)",
      "File \u001b[0;32m~/Desktop/template_repo/template/.env/lib/python3.9/site-packages/gtts/tts.py:269\u001b[0m, in \u001b[0;36mgTTS.stream\u001b[0;34m(self)\u001b[0m\n\u001b[1;32m    267\u001b[0m     log\u001b[39m.\u001b[39mdebug(\u001b[39m\"\u001b[39m\u001b[39mstatus-\u001b[39m\u001b[39m%i\u001b[39;00m\u001b[39m: \u001b[39m\u001b[39m%s\u001b[39;00m\u001b[39m\"\u001b[39m, idx, r\u001b[39m.\u001b[39mstatus_code)\n\u001b[0;32m--> 269\u001b[0m     r\u001b[39m.\u001b[39;49mraise_for_status()\n\u001b[1;32m    270\u001b[0m \u001b[39mexcept\u001b[39;00m requests\u001b[39m.\u001b[39mexceptions\u001b[39m.\u001b[39mHTTPError \u001b[39mas\u001b[39;00m e:  \u001b[39m# pragma: no cover\u001b[39;00m\n\u001b[1;32m    271\u001b[0m     \u001b[39m# Request successful, bad response\u001b[39;00m\n",
      "File \u001b[0;32m~/Desktop/template_repo/template/.env/lib/python3.9/site-packages/requests/models.py:1021\u001b[0m, in \u001b[0;36mResponse.raise_for_status\u001b[0;34m(self)\u001b[0m\n\u001b[1;32m   1020\u001b[0m \u001b[39mif\u001b[39;00m http_error_msg:\n\u001b[0;32m-> 1021\u001b[0m     \u001b[39mraise\u001b[39;00m HTTPError(http_error_msg, response\u001b[39m=\u001b[39m\u001b[39mself\u001b[39m)\n",
      "\u001b[0;31mHTTPError\u001b[0m: 429 Client Error: Too Many Requests for url: https://www.google.com/sorry/index?continue=https://translate.google.com/_/TranslateWebserverUi/data/batchexecute&q=EhAmABcAvuAOMDkP4pzGOdF2GM6G7J8GIjDNBv0uWGWoryhOHAjO4Z2CW6frvnByZveABpn1ccNk30awuRDiLKGJ8J2PlOkQ9aAyAXI",
      "\nDuring handling of the above exception, another exception occurred:\n",
      "\u001b[0;31mgTTSError\u001b[0m                                 Traceback (most recent call last)",
      "Cell \u001b[0;32mIn[100], line 21\u001b[0m\n\u001b[1;32m     17\u001b[0m myobj \u001b[39m=\u001b[39m gTTS(text\u001b[39m=\u001b[39m\u001b[39mstr\u001b[39m(file), lang\u001b[39m=\u001b[39mlanguage)\n\u001b[1;32m     19\u001b[0m \u001b[39m# Saving the converted audio in a mp3 file named\u001b[39;00m\n\u001b[1;32m     20\u001b[0m \u001b[39m# welcome \u001b[39;00m\n\u001b[0;32m---> 21\u001b[0m myobj\u001b[39m.\u001b[39;49msave(\u001b[39m\"\u001b[39;49m\u001b[39m../../../template_repo/template/ade-fr.mp3\u001b[39;49m\u001b[39m\"\u001b[39;49m)\n",
      "File \u001b[0;32m~/Desktop/template_repo/template/.env/lib/python3.9/site-packages/gtts/tts.py:325\u001b[0m, in \u001b[0;36mgTTS.save\u001b[0;34m(self, savefile)\u001b[0m\n\u001b[1;32m    315\u001b[0m \u001b[39m\u001b[39m\u001b[39m\"\"\"Do the TTS API request and write result to file.\u001b[39;00m\n\u001b[1;32m    316\u001b[0m \n\u001b[1;32m    317\u001b[0m \u001b[39mArgs:\u001b[39;00m\n\u001b[0;32m   (...)\u001b[0m\n\u001b[1;32m    322\u001b[0m \n\u001b[1;32m    323\u001b[0m \u001b[39m\"\"\"\u001b[39;00m\n\u001b[1;32m    324\u001b[0m \u001b[39mwith\u001b[39;00m \u001b[39mopen\u001b[39m(\u001b[39mstr\u001b[39m(savefile), \u001b[39m\"\u001b[39m\u001b[39mwb\u001b[39m\u001b[39m\"\u001b[39m) \u001b[39mas\u001b[39;00m f:\n\u001b[0;32m--> 325\u001b[0m     \u001b[39mself\u001b[39;49m\u001b[39m.\u001b[39;49mwrite_to_fp(f)\n\u001b[1;32m    326\u001b[0m     log\u001b[39m.\u001b[39mdebug(\u001b[39m\"\u001b[39m\u001b[39mSaved to \u001b[39m\u001b[39m%s\u001b[39;00m\u001b[39m\"\u001b[39m, savefile)\n",
      "File \u001b[0;32m~/Desktop/template_repo/template/.env/lib/python3.9/site-packages/gtts/tts.py:306\u001b[0m, in \u001b[0;36mgTTS.write_to_fp\u001b[0;34m(self, fp)\u001b[0m\n\u001b[1;32m    294\u001b[0m \u001b[39m\u001b[39m\u001b[39m\"\"\"Do the TTS API request(s) and write bytes to a file-like object.\u001b[39;00m\n\u001b[1;32m    295\u001b[0m \n\u001b[1;32m    296\u001b[0m \u001b[39mArgs:\u001b[39;00m\n\u001b[0;32m   (...)\u001b[0m\n\u001b[1;32m    302\u001b[0m \n\u001b[1;32m    303\u001b[0m \u001b[39m\"\"\"\u001b[39;00m\n\u001b[1;32m    305\u001b[0m \u001b[39mtry\u001b[39;00m:\n\u001b[0;32m--> 306\u001b[0m     \u001b[39mfor\u001b[39;00m idx, decoded \u001b[39min\u001b[39;00m \u001b[39menumerate\u001b[39m(\u001b[39mself\u001b[39m\u001b[39m.\u001b[39mstream()):\n\u001b[1;32m    307\u001b[0m         fp\u001b[39m.\u001b[39mwrite(decoded)\n\u001b[1;32m    308\u001b[0m         log\u001b[39m.\u001b[39mdebug(\u001b[39m\"\u001b[39m\u001b[39mpart-\u001b[39m\u001b[39m%i\u001b[39;00m\u001b[39m written to \u001b[39m\u001b[39m%s\u001b[39;00m\u001b[39m\"\u001b[39m, idx, fp)\n",
      "File \u001b[0;32m~/Desktop/template_repo/template/.env/lib/python3.9/site-packages/gtts/tts.py:273\u001b[0m, in \u001b[0;36mgTTS.stream\u001b[0;34m(self)\u001b[0m\n\u001b[1;32m    270\u001b[0m \u001b[39mexcept\u001b[39;00m requests\u001b[39m.\u001b[39mexceptions\u001b[39m.\u001b[39mHTTPError \u001b[39mas\u001b[39;00m e:  \u001b[39m# pragma: no cover\u001b[39;00m\n\u001b[1;32m    271\u001b[0m     \u001b[39m# Request successful, bad response\u001b[39;00m\n\u001b[1;32m    272\u001b[0m     log\u001b[39m.\u001b[39mdebug(\u001b[39mstr\u001b[39m(e))\n\u001b[0;32m--> 273\u001b[0m     \u001b[39mraise\u001b[39;00m gTTSError(tts\u001b[39m=\u001b[39m\u001b[39mself\u001b[39m, response\u001b[39m=\u001b[39mr)\n\u001b[1;32m    274\u001b[0m \u001b[39mexcept\u001b[39;00m requests\u001b[39m.\u001b[39mexceptions\u001b[39m.\u001b[39mRequestException \u001b[39mas\u001b[39;00m e:  \u001b[39m# pragma: no cover\u001b[39;00m\n\u001b[1;32m    275\u001b[0m     \u001b[39m# Request failed\u001b[39;00m\n\u001b[1;32m    276\u001b[0m     log\u001b[39m.\u001b[39mdebug(\u001b[39mstr\u001b[39m(e))\n",
      "\u001b[0;31mgTTSError\u001b[0m: 429 (Too Many Requests) from TTS API. Probable cause: Unknown"
     ]
    }
   ],
   "source": [
    "from gtts import gTTS\n",
    "import os\n",
    "stuff = []\n",
    "# # The text that you want to convert to audio\n",
    "# with open(\"../../../ADE.txt\", \"r\") as f:\n",
    "#     for line in f.readlines():\n",
    "#         stuff.append(str(line))\n",
    "#     # print(line)\n",
    "  \n",
    "# Language in which you want to convert\n",
    "language = 'fr'\n",
    "file = open(\"../../../ADE-fr.txt\", \"r\").read()\n",
    "# .replace(\"\\n\", \" \")\n",
    "\n",
    "\n",
    "\n",
    "myobj = gTTS(text=str(file), lang=language)\n",
    "  \n",
    "# Saving the converted audio in a mp3 file named\n",
    "# welcome \n",
    "myobj.save(\"../../../template_repo/template/ade-fr.mp3\")\n"
   ]
  },
  {
   "cell_type": "code",
   "execution_count": 98,
   "metadata": {},
   "outputs": [
    {
     "name": "stderr",
     "output_type": "stream",
     "text": [
      "/Users/madisond/Desktop/template_repo/template/.env/lib/python3.9/site-packages/ebooklib/epub.py:1395: UserWarning: In the future version we will turn default option ignore_ncx to True.\n",
      "  warnings.warn('In the future version we will turn default option ignore_ncx to True.')\n"
     ]
    },
    {
     "data": {
      "text/plain": [
       "<ebooklib.epub.EpubHtml at 0x11635b3d0>"
      ]
     },
     "execution_count": 98,
     "metadata": {},
     "output_type": "execute_result"
    }
   ],
   "source": [
    "import ebooklib\n",
    "from ebooklib import epub\n",
    "\n",
    "test = epub.read_epub('../../../ADE.epub')\n",
    "test.items[5]"
   ]
  },
  {
   "cell_type": "code",
   "execution_count": null,
   "metadata": {},
   "outputs": [],
   "source": []
  }
 ],
 "metadata": {
  "kernelspec": {
   "display_name": "Python 3.9.6 ('.env': venv)",
   "language": "python",
   "name": "python3"
  },
  "language_info": {
   "codemirror_mode": {
    "name": "ipython",
    "version": 3
   },
   "file_extension": ".py",
   "mimetype": "text/x-python",
   "name": "python",
   "nbconvert_exporter": "python",
   "pygments_lexer": "ipython3",
   "version": "3.9.6"
  },
  "vscode": {
   "interpreter": {
    "hash": "f0b0192d875430f17d416a58f1eb1ad09cb733937bf475342e8e3dda8b050b36"
   }
  }
 },
 "nbformat": 4,
 "nbformat_minor": 4
}
